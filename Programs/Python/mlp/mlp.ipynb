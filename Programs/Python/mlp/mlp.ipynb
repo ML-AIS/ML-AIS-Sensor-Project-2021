{
  "nbformat": 4,
  "nbformat_minor": 0,
  "metadata": {
    "colab": {
      "name": "MLP.ipynb",
      "provenance": []
    },
    "kernelspec": {
      "name": "python3",
      "display_name": "Python 3"
    },
    "language_info": {
      "name": "python"
    }
  },
  "cells": [
    {
      "cell_type": "code",
      "source": [
        "!pip install --upgrade xlrd"
      ],
      "metadata": {
        "id": "X8MyCws5U2U7",
        "outputId": "af0c51fb-dfac-4915-b89e-97fd297fc8a9",
        "colab": {
          "base_uri": "https://localhost:8080/"
        }
      },
      "execution_count": 2,
      "outputs": [
        {
          "output_type": "stream",
          "name": "stdout",
          "text": [
            "Requirement already satisfied: xlrd in /usr/local/lib/python3.7/dist-packages (1.1.0)\n",
            "Collecting xlrd\n",
            "  Downloading xlrd-2.0.1-py2.py3-none-any.whl (96 kB)\n",
            "\u001b[K     |████████████████████████████████| 96 kB 2.6 MB/s \n",
            "\u001b[?25hInstalling collected packages: xlrd\n",
            "  Attempting uninstall: xlrd\n",
            "    Found existing installation: xlrd 1.1.0\n",
            "    Uninstalling xlrd-1.1.0:\n",
            "      Successfully uninstalled xlrd-1.1.0\n",
            "Successfully installed xlrd-2.0.1\n"
          ]
        }
      ]
    },
    {
      "cell_type": "code",
      "execution_count": 59,
      "metadata": {
        "id": "yVLKrn1sYhn1"
      },
      "outputs": [],
      "source": [
        "import pandas as pd\n",
        "import numpy as np\n",
        "from pandas import read_csv\n",
        "from sklearn.model_selection import train_test_split\n",
        "from sklearn.preprocessing import LabelEncoder\n",
        "import tensorflow as tf\n",
        "from tensorflow.python.keras import Sequential\n",
        "from tensorflow.python.keras.layers import Dense\n",
        "from sklearn.preprocessing import scale"
      ]
    },
    {
      "cell_type": "code",
      "source": [
        "dates = [\n",
        "  \"2021.11.30\",\n",
        "  \"2022.01.20\",\n",
        "  \"2022.02.04\",\n",
        "  \"2022.02.11\",\n",
        "  \"2022.02.18.2\",\n",
        "  \"2022.02.18\",\n",
        "  \"2022.03.04.2\",\n",
        "  \"2022.03.11\",\n",
        "  # \"2022.04.14\",\n",
        "]"
      ],
      "metadata": {
        "id": "zn_lIlCKCHb1"
      },
      "execution_count": 4,
      "outputs": []
    },
    {
      "cell_type": "code",
      "source": [
        "data_all = np.empty((0,85), int)\n",
        "data_label_all = np.empty((0,1), int)\n",
        "\n",
        "for date in dates:\n",
        "  path_data = f\"https://raw.githubusercontent.com/paweenp/ML-data/master/{date}_all_data.xls\" \n",
        "  path_label = f'https://raw.githubusercontent.com/paweenp/ML-data/master/{date}_all_label.xls'\n",
        "  \n",
        "  data_df = scale(pd.read_excel(path_data, header=None), axis=0, with_mean=True, with_std=True, copy=True)\n",
        "  label_df = pd.read_excel(path_label, header=None)\n",
        "\n",
        "  data_all = np.append(data_all, data_df, axis=0)\n",
        "  data_label_all = np.append(data_label_all, label_df.to_numpy(), axis=0)\n"
      ],
      "metadata": {
        "id": "2R3ruC6MC7RT"
      },
      "execution_count": 64,
      "outputs": []
    },
    {
      "cell_type": "code",
      "source": [
        "df = pd.DataFrame(data_all)\n",
        "df_label = pd.DataFrame(data_label_all)"
      ],
      "metadata": {
        "id": "fmOuSXzlIWcP"
      },
      "execution_count": 69,
      "outputs": []
    },
    {
      "cell_type": "code",
      "source": [
        "# load the dataset\n",
        "train_data_path = 'https://raw.githubusercontent.com/paweenp/ML-data/master/2022.04.14_all_data.xls'\n",
        "df_data_train = pd.read_excel(train_data_path, header=None)\n",
        "\n",
        "train_data_label_label = 'https://raw.githubusercontent.com/paweenp/ML-data/master/2022.04.14_all_label.xls'\n",
        "df_label_train = pd.read_excel(train_data_label_label, header=None)"
      ],
      "metadata": {
        "id": "L4LseoXgYn0x"
      },
      "execution_count": null,
      "outputs": []
    },
    {
      "cell_type": "code",
      "source": [
        "# split into input and output columns\n",
        "# X, y = df.values[:, :-1], df.values[:, -1]\n",
        "X = df.values[:]\n",
        "y = df_label.values[:].flatten()\n",
        "\n",
        "# ensure all data are floating point values\n",
        "X = X.astype('float32')\n",
        "\n",
        "# encode strings to integer\n",
        "y = LabelEncoder().fit_transform(y)"
      ],
      "metadata": {
        "id": "TyifpCojaAoJ"
      },
      "execution_count": 71,
      "outputs": []
    },
    {
      "cell_type": "code",
      "source": [
        "# split into train and test datasets\n",
        "X_train, X_test, y_train, y_test = train_test_split(X, y, test_size=0.33)\n",
        "print(X_train.shape, X_test.shape, y_train.shape, y_test.shape)"
      ],
      "metadata": {
        "colab": {
          "base_uri": "https://localhost:8080/"
        },
        "id": "NZwgCI8naPiw",
        "outputId": "e8f4d7a0-8a4e-4103-bc79-aee9b0749b2b"
      },
      "execution_count": 72,
      "outputs": [
        {
          "output_type": "stream",
          "name": "stdout",
          "text": [
            "(100948, 85) (49722, 85) (100948,) (49722,)\n"
          ]
        }
      ]
    },
    {
      "cell_type": "code",
      "source": [
        "# determine the number of input features\n",
        "n_features = X_train.shape[1]"
      ],
      "metadata": {
        "id": "Rd69fLDGavK2"
      },
      "execution_count": 73,
      "outputs": []
    },
    {
      "cell_type": "code",
      "source": [
        "# define model\n",
        "model = Sequential()\n",
        "model.add(Dense(100, activation='relu', kernel_initializer='he_normal', input_shape=(n_features,)))\n",
        "model.add(Dense(50, activation='relu', kernel_initializer='he_normal'))\n",
        "model.add(Dense(25, activation='relu', kernel_initializer='he_normal'))\n",
        "model.add(Dense(1, activation='sigmoid'))"
      ],
      "metadata": {
        "id": "gEfyog_CbDwR"
      },
      "execution_count": 74,
      "outputs": []
    },
    {
      "cell_type": "code",
      "source": [
        "# compile the model\n",
        "model.compile(optimizer='adam', loss='binary_crossentropy', metrics=['accuracy'])"
      ],
      "metadata": {
        "id": "nsqP6Qw3bHuz"
      },
      "execution_count": 75,
      "outputs": []
    },
    {
      "cell_type": "code",
      "source": [
        "\n",
        "model.summary()"
      ],
      "metadata": {
        "id": "UlYeyOMuwCbJ",
        "outputId": "e3a011b0-a02f-46bd-cb41-dc84866da36e",
        "colab": {
          "base_uri": "https://localhost:8080/"
        }
      },
      "execution_count": 76,
      "outputs": [
        {
          "output_type": "stream",
          "name": "stdout",
          "text": [
            "Model: \"sequential_3\"\n",
            "_________________________________________________________________\n",
            "Layer (type)                 Output Shape              Param #   \n",
            "=================================================================\n",
            "dense_12 (Dense)             (None, 100)               8600      \n",
            "_________________________________________________________________\n",
            "dense_13 (Dense)             (None, 50)                5050      \n",
            "_________________________________________________________________\n",
            "dense_14 (Dense)             (None, 25)                1275      \n",
            "_________________________________________________________________\n",
            "dense_15 (Dense)             (None, 1)                 26        \n",
            "=================================================================\n",
            "Total params: 14,951\n",
            "Trainable params: 14,951\n",
            "Non-trainable params: 0\n",
            "_________________________________________________________________\n"
          ]
        }
      ]
    },
    {
      "cell_type": "code",
      "source": [
        "# fit the model\n",
        "epochs = 150\n",
        "history = model.fit(X_train, y_train, epochs=epochs, batch_size=32, verbose=0)"
      ],
      "metadata": {
        "id": "NDbHHSiGbNjO"
      },
      "execution_count": 77,
      "outputs": []
    },
    {
      "cell_type": "code",
      "source": [
        "# evaluate the model\n",
        "loss, testing_accuracy = model.evaluate(X_test, y_test, verbose=0)\n",
        "print('Test Accuracy: %.3f' % testing_accuracy)"
      ],
      "metadata": {
        "colab": {
          "base_uri": "https://localhost:8080/"
        },
        "id": "mhZ-5S7JbUTX",
        "outputId": "7847f176-3371-44cb-d222-5aa44b096e70"
      },
      "execution_count": 78,
      "outputs": [
        {
          "output_type": "stream",
          "name": "stdout",
          "text": [
            "Test Accuracy: 0.973\n"
          ]
        }
      ]
    },
    {
      "cell_type": "code",
      "source": [
        "import matplotlib.pyplot as plt\n",
        "\n",
        "acc = history.history['accuracy']\n",
        "loss = history.history['loss']\n",
        "\n",
        "epochs_range = range(epochs)\n",
        "\n",
        "plt.figure(figsize=(6, 4))\n",
        "plt.subplot(1, 2, 1)\n",
        "plt.plot(epochs_range, acc, label='Training Accuracy')\n",
        "plt.xlabel(\"Epoch\")\n",
        "plt.legend(loc='lower right')\n",
        "plt.title('Training Accuracy')\n",
        "\n",
        "plt.subplot(1, 2, 2)\n",
        "plt.plot(epochs_range, loss, label='Training Loss')\n",
        "plt.legend(loc='upper right')\n",
        "plt.title('Training Loss')\n",
        "plt.xlabel(\"Epoch\")\n",
        "plt.show()\n"
      ],
      "metadata": {
        "colab": {
          "base_uri": "https://localhost:8080/",
          "height": 295
        },
        "id": "yDCKAB0ZbtE6",
        "outputId": "fbe06346-e7dd-49c7-ccc2-7b8a507c977d"
      },
      "execution_count": 80,
      "outputs": [
        {
          "output_type": "display_data",
          "data": {
            "text/plain": [
              "<Figure size 432x288 with 2 Axes>"
            ],
            "image/png": "[encoded data removed]"
          },
          "metadata": {
            "needs_background": "light"
          }
        }
      ]
    },
    {
      "cell_type": "code",
      "source": [
        "# load the dataset for classification using the trained model\n",
        "path = 'https://raw.githubusercontent.com/paweenp/ML-data/master/2022.04.14_all_data.xls'\n",
        "df_actual = pd.DataFrame(scale(pd.read_excel(path, header=None), axis=0, with_mean=True, with_std=True, copy=True))\n",
        "\n",
        "path_label = 'https://raw.githubusercontent.com/paweenp/ML-data/master/2022.04.14_all_label.xls'\n",
        "df_actual_label = pd.read_excel(path_label, header=None)"
      ],
      "metadata": {
        "id": "LeTBbAZoovg0"
      },
      "execution_count": 83,
      "outputs": []
    },
    {
      "cell_type": "code",
      "source": [
        "# split into input and output columns\n",
        "# X, y = df.values[:, :-1], df.values[:, -1]\n",
        "X_actual = df_actual.values[:]\n",
        "y_actual = df_actual_label.values[:].flatten()\n",
        "\n",
        "# ensure all data are floating point values\n",
        "# X = X.astype('float32')\n",
        "\n",
        "# encode strings to integer\n",
        "y_actual = LabelEncoder().fit_transform(y_actual)"
      ],
      "metadata": {
        "id": "ug-REO9Boyp8"
      },
      "execution_count": 85,
      "outputs": []
    },
    {
      "cell_type": "code",
      "source": [
        "all_predictions = []\n",
        "\n",
        "for row in X_actual:\n",
        "    prediction = model.predict(np.asarray([row]))\n",
        "    all_predictions.append(prediction)"
      ],
      "metadata": {
        "id": "XmC1UiR5o7IP"
      },
      "execution_count": 86,
      "outputs": []
    },
    {
      "cell_type": "code",
      "source": [
        "y_actual_pred = []  # store predicted labels\n",
        "y_actual_true = []  # store true labels\n",
        "\n",
        "for prediction in all_predictions:\n",
        "    if (prediction[0][0] >= 0.5):\n",
        "        y_actual_pred.append(1)\n",
        "    else:\n",
        "        y_actual_pred.append(0)"
      ],
      "metadata": {
        "id": "DSvQV8R9TVPu"
      },
      "execution_count": 107,
      "outputs": []
    },
    {
      "cell_type": "code",
      "source": [
        "# convert the true and predicted labels into tensors\n",
        "correct_labels = tf.concat([item for item in y_actual], axis = 0)\n",
        "predicted_labels = tf.concat([item for item in y_actual_pred], axis = 0)"
      ],
      "metadata": {
        "id": "dFf1Bf4Fq7QK"
      },
      "execution_count": 104,
      "outputs": []
    },
    {
      "cell_type": "code",
      "source": [
        "import seaborn as sns\n",
        "\n",
        "ticklabels=[\"Human\", \"Empty\"]\n",
        "confusion_mtx = tf.math.confusion_matrix(1 - correct_labels.numpy(), 1- predicted_labels)\n",
        "plt.figure(figsize=(6, 5))\n",
        "sns.heatmap(confusion_mtx,\n",
        "            xticklabels=ticklabels,\n",
        "            yticklabels=ticklabels,\n",
        "            annot=True, fmt='g')\n",
        "plt.xlabel('Prediction')\n",
        "plt.ylabel('Label')\n",
        "plt.show()\n"
      ],
      "metadata": {
        "id": "OiDUt_5jV0oJ",
        "outputId": "7ee053ed-d25e-4f9f-fc0c-9415f103a932",
        "colab": {
          "base_uri": "https://localhost:8080/",
          "height": 334
        }
      },
      "execution_count": 108,
      "outputs": [
        {
          "output_type": "display_data",
          "data": {
            "text/plain": [
              "<Figure size 432x360 with 2 Axes>"
            ],
            "image/png": "[encoded data removed]"
          },
          "metadata": {
            "needs_background": "light"
          }
        }
      ]
    },
    {
      "cell_type": "code",
      "source": [
        "cfm = confusion_mtx.numpy()\n",
        "\n",
        "tp = cfm[0][0]\n",
        "tn = cfm[1][1]\n",
        "fp = cfm[1][0]\n",
        "fn = cfm[0][1]\n",
        "\n",
        "acc = ((tp+tn) / (tp+tn+fp+fn)) * 100\n",
        "\n",
        "tpr = tp / (tp+fn)\n",
        "fnr = 1 - tpr\n",
        "\n",
        "tnr = tn / (tn+fp)\n",
        "fpr = 1 - tnr\n",
        "\n",
        "print(f'tpr = {tpr * 100}')\n",
        "print(f'fnr = {fnr * 100}')\n",
        "\n",
        "print(f'tnr = {tnr * 100}')\n",
        "print(f'fpr = {fpr * 100}')\n",
        "\n",
        "print(f'accuracy = {acc}')"
      ],
      "metadata": {
        "id": "yED1AA_TTuRs",
        "outputId": "c645b8e7-bb26-4202-8ea6-adbd5b8a343d",
        "colab": {
          "base_uri": "https://localhost:8080/"
        }
      },
      "execution_count": 49,
      "outputs": [
        {
          "output_type": "stream",
          "name": "stdout",
          "text": [
            "tpr = 98.66666666666667\n",
            "fnr = 1.3333333333333308\n",
            "tnr = 91.0\n",
            "fpr = 8.999999999999996\n",
            "accuracy = 94.06666666666666\n"
          ]
        }
      ]
    }
  ]
}
{
 "cells": [
  {
   "cell_type": "code",
   "execution_count": 1,
   "id": "64d84b71-bb82-42c2-b53a-1c089f82dec4",
   "metadata": {},
   "outputs": [],
   "source": [
    "import tensorflow as tf\n",
    "import datetime"
   ]
  },
  {
   "cell_type": "code",
   "execution_count": 2,
   "id": "3a0dabdb-1820-4624-9fb8-6acf91439bfa",
   "metadata": {},
   "outputs": [],
   "source": [
    "input_dir = '/home/jovyan/work/data/'"
   ]
  },
  {
   "cell_type": "code",
   "execution_count": 3,
   "id": "df7a4162-ae5f-4bf7-af51-affbc1e61e5c",
   "metadata": {},
   "outputs": [
    {
     "name": "stdout",
     "output_type": "stream",
     "text": [
      "Found 52800 files belonging to 2 classes.\n",
      "Using 47520 files for training.\n"
     ]
    },
    {
     "name": "stderr",
     "output_type": "stream",
     "text": [
      "2022-04-12 09:50:40.482134: W tensorflow/stream_executor/platform/default/dso_loader.cc:64] Could not load dynamic library 'libcuda.so.1'; dlerror: libcuda.so.1: cannot open shared object file: No such file or directory\n",
      "2022-04-12 09:50:40.482223: W tensorflow/stream_executor/cuda/cuda_driver.cc:269] failed call to cuInit: UNKNOWN ERROR (303)\n",
      "2022-04-12 09:50:40.482269: I tensorflow/stream_executor/cuda/cuda_diagnostics.cc:156] kernel driver does not appear to be running on this host (9254522d3e31): /proc/driver/nvidia/version does not exist\n",
      "2022-04-12 09:50:40.486914: I tensorflow/core/platform/cpu_feature_guard.cc:142] This TensorFlow binary is optimized with oneAPI Deep Neural Network Library (oneDNN) to use the following CPU instructions in performance-critical operations:  SSE4.1 SSE4.2 AVX AVX2 FMA\n",
      "To enable them in other operations, rebuild TensorFlow with the appropriate compiler flags.\n"
     ]
    },
    {
     "name": "stdout",
     "output_type": "stream",
     "text": [
      "Found 52800 files belonging to 2 classes.\n",
      "Using 5280 files for validation.\n"
     ]
    }
   ],
   "source": [
    "from tensorflow.keras.preprocessing import image_dataset_from_directory\n",
    "\n",
    "\n",
    "# training_data_dir = output_dir+'/train'\n",
    "# validation_data_dir = output_dir+'/val'\n",
    "\n",
    "image_shape = (250, 250) #image size to use, (height, width)\n",
    "batch_size = 32 #taking 32 images in a batch at a time\n",
    "seed = 123 #seed to recreate the same results every time we run this code\n",
    "\n",
    "train_ds = image_dataset_from_directory(\n",
    "        input_dir,\n",
    "        image_size=image_shape,\n",
    "        batch_size=batch_size,\n",
    "        class_names = [\n",
    "          'human', 'empty'\n",
    "        ],\n",
    "        label_mode = \"categorical\",\n",
    "        seed=seed,\n",
    "        validation_split=0.1,\n",
    "        shuffle=True,\n",
    "        subset='training'\n",
    ")\n",
    "valid_ds = image_dataset_from_directory(\n",
    "        input_dir,\n",
    "        image_size=image_shape,\n",
    "        batch_size=batch_size,\n",
    "        class_names = [\n",
    "          'human', 'empty'\n",
    "        ],\n",
    "        label_mode = \"categorical\",\n",
    "        seed=seed,\n",
    "        validation_split=0.1,\n",
    "        shuffle=True,\n",
    "        subset='validation'\n",
    ")"
   ]
  },
  {
   "cell_type": "code",
   "execution_count": 4,
   "id": "05050ebf-1f1b-4cb7-b29a-3ef4d0ca1683",
   "metadata": {},
   "outputs": [
    {
     "data": {
      "text/plain": [
       "<BatchDataset shapes: ((None, 250, 250, 3), (None, 2)), types: (tf.float32, tf.float32)>"
      ]
     },
     "execution_count": 4,
     "metadata": {},
     "output_type": "execute_result"
    }
   ],
   "source": []
  },
  {
   "cell_type": "code",
   "execution_count": 5,
   "id": "493c4702-0632-4d4d-9c5c-09274b260ea7",
   "metadata": {},
   "outputs": [],
   "source": [
    "AUTOTUNE = tf.data.AUTOTUNE\n",
    "\n",
    "train_ds = train_ds.cache().shuffle(1000).prefetch(buffer_size=AUTOTUNE)\n",
    "val_ds = valid_ds.cache().prefetch(buffer_size=AUTOTUNE)"
   ]
  },
  {
   "cell_type": "code",
   "execution_count": 4,
   "id": "280842e7-dc7a-4012-94cb-efa397efd517",
   "metadata": {},
   "outputs": [],
   "source": [
    "from tensorflow.keras import layers\n",
    "# To rescale an input in the [0, 255] range to be in the [0, 1] range,pass scale=1./255.\n",
    "normalization_layer = layers.experimental.preprocessing.Rescaling(1./255) "
   ]
  },
  {
   "cell_type": "code",
   "execution_count": 5,
   "id": "33c0eabc-d2a2-4465-bee5-4245a4e30975",
   "metadata": {},
   "outputs": [],
   "source": [
    "from tensorflow.keras import Sequential\n",
    "num_classes = 2\n",
    "\n",
    "model = Sequential([\n",
    "  layers.experimental.preprocessing.Rescaling(1./255, input_shape=(250,250,3)), #3 rgb color means, input_sahpe has htirs parameteras 3.\n",
    "  layers.Conv2D(16, 3, padding='same', activation='relu'),\n",
    "  layers.MaxPooling2D(),\n",
    "  layers.Conv2D(32, 3, padding='same', activation='relu'),\n",
    "  layers.MaxPooling2D(),\n",
    "  layers.Conv2D(64, 3, padding='same', activation='relu'),\n",
    "  layers.MaxPooling2D(),\n",
    "  layers.Flatten(),\n",
    "  layers.Dense(128, activation='relu'),\n",
    "  layers.Dense(num_classes)\n",
    "])"
   ]
  },
  {
   "cell_type": "code",
   "execution_count": 6,
   "id": "b63d72c0-7a5c-4b2b-a7aa-a08a8b2bc366",
   "metadata": {},
   "outputs": [],
   "source": [
    "model.compile(optimizer='adam',\n",
    "              loss=tf.keras.losses.CategoricalCrossentropy(from_logits=True), #this is categorical classification so, CategoricalCrossentropy is used\n",
    "              metrics=['accuracy'])"
   ]
  },
  {
   "cell_type": "code",
   "execution_count": 7,
   "id": "4f4854fb-8512-48c1-b1ea-08dcdc7935ca",
   "metadata": {},
   "outputs": [
    {
     "name": "stdout",
     "output_type": "stream",
     "text": [
      "Model: \"sequential\"\n",
      "_________________________________________________________________\n",
      "Layer (type)                 Output Shape              Param #   \n",
      "=================================================================\n",
      "rescaling_1 (Rescaling)      (None, 250, 250, 3)       0         \n",
      "_________________________________________________________________\n",
      "conv2d (Conv2D)              (None, 250, 250, 16)      448       \n",
      "_________________________________________________________________\n",
      "max_pooling2d (MaxPooling2D) (None, 125, 125, 16)      0         \n",
      "_________________________________________________________________\n",
      "conv2d_1 (Conv2D)            (None, 125, 125, 32)      4640      \n",
      "_________________________________________________________________\n",
      "max_pooling2d_1 (MaxPooling2 (None, 62, 62, 32)        0         \n",
      "_________________________________________________________________\n",
      "conv2d_2 (Conv2D)            (None, 62, 62, 64)        18496     \n",
      "_________________________________________________________________\n",
      "max_pooling2d_2 (MaxPooling2 (None, 31, 31, 64)        0         \n",
      "_________________________________________________________________\n",
      "flatten (Flatten)            (None, 61504)             0         \n",
      "_________________________________________________________________\n",
      "dense (Dense)                (None, 128)               7872640   \n",
      "_________________________________________________________________\n",
      "dense_1 (Dense)              (None, 2)                 258       \n",
      "=================================================================\n",
      "Total params: 7,896,482\n",
      "Trainable params: 7,896,482\n",
      "Non-trainable params: 0\n",
      "_________________________________________________________________\n"
     ]
    }
   ],
   "source": [
    "model.summary()"
   ]
  },
  {
   "cell_type": "code",
   "execution_count": 10,
   "id": "f50070a5-8a0f-4af6-a70b-e6fbf1d2ba5b",
   "metadata": {},
   "outputs": [],
   "source": [
    "class MyCustomCallback(tf.keras.callbacks.Callback):\n",
    "\n",
    "  def on_train_batch_begin(self, batch, logs=None):\n",
    "    print('Training: batch {} begins at {}'.format(batch, datetime.datetime.now().time()))\n",
    "\n",
    "  def on_train_batch_end(self, batch, logs=None):\n",
    "    print('Training: batch {} ends at {}'.format(batch, datetime.datetime.now().time()))\n",
    "\n",
    "  def on_test_batch_begin(self, batch, logs=None):\n",
    "    print('Evaluating: batch {} begins at {}'.format(batch, datetime.datetime.now().time()))\n",
    "\n",
    "  def on_test_batch_end(self, batch, logs=None):\n",
    "    print('Evaluating: batch {} ends at {}'.format(batch, datetime.datetime.now().time()))"
   ]
  },
  {
   "cell_type": "code",
   "execution_count": 8,
   "id": "c2ea942a-2328-4fd5-b9d6-4aff9820abd6",
   "metadata": {},
   "outputs": [
    {
     "name": "stdout",
     "output_type": "stream",
     "text": [
      "Epoch 1/5\n"
     ]
    },
    {
     "name": "stderr",
     "output_type": "stream",
     "text": [
      "2022-04-12 09:50:53.447043: I tensorflow/compiler/mlir/mlir_graph_optimization_pass.cc:185] None of the MLIR Optimization Passes are enabled (registered 2)\n"
     ]
    },
    {
     "name": "stdout",
     "output_type": "stream",
     "text": [
      "1485/1485 [==============================] - 1274s 857ms/step - loss: 0.3058 - accuracy: 0.8756 - val_loss: 0.2187 - val_accuracy: 0.9131\n",
      "Epoch 2/5\n",
      "1485/1485 [==============================] - 1106s 745ms/step - loss: 0.2132 - accuracy: 0.9119 - val_loss: 0.2133 - val_accuracy: 0.9129\n",
      "Epoch 3/5\n",
      "1485/1485 [==============================] - 1510s 1s/step - loss: 0.1948 - accuracy: 0.9164 - val_loss: 0.1940 - val_accuracy: 0.9199\n",
      "Epoch 4/5\n",
      "1485/1485 [==============================] - 1341s 903ms/step - loss: 0.1852 - accuracy: 0.9189 - val_loss: 0.1829 - val_accuracy: 0.9231\n",
      "Epoch 5/5\n",
      "1485/1485 [==============================] - 1312s 883ms/step - loss: 0.1768 - accuracy: 0.9232 - val_loss: 0.1847 - val_accuracy: 0.9242\n"
     ]
    }
   ],
   "source": [
    "epochs=5\n",
    "history = model.fit(\n",
    "    train_ds,\n",
    "    validation_data=valid_ds,\n",
    "    epochs=epochs\n",
    ")"
   ]
  },
  {
   "cell_type": "code",
   "execution_count": 9,
   "id": "ea5471d9-6abb-4f43-95ac-5f3c41deaec1",
   "metadata": {},
   "outputs": [
    {
     "name": "stderr",
     "output_type": "stream",
     "text": [
      "2022-04-12 11:46:43.664561: W tensorflow/python/util/util.cc:348] Sets are not currently considered sequences, but this may change in the future, so consider avoiding using them.\n"
     ]
    },
    {
     "name": "stdout",
     "output_type": "stream",
     "text": [
      "INFO:tensorflow:Assets written to: /home/jovyan/work/saved_model/cnn_model/assets\n"
     ]
    }
   ],
   "source": [
    "# save model\n",
    "saved_model_path = '/home/jovyan/work/saved_model/cnn_model'\n",
    "model.save(saved_model_path)"
   ]
  },
  {
   "cell_type": "code",
   "execution_count": 31,
   "id": "9bc5a1e6-1702-41d5-bad9-92a03c5dc0ba",
   "metadata": {},
   "outputs": [
    {
     "data": {
      "text/plain": [
       "array([[-2.6806417 , -0.47557408]], dtype=float32)"
      ]
     },
     "execution_count": 31,
     "metadata": {},
     "output_type": "execute_result"
    }
   ],
   "source": [
    "# Predict\n",
    "import numpy as np\n",
    "from keras.preprocessing import image\n",
    "img = image.load_img(input_dir+'/empty/image11507.png', target_size=(250, 250))\n",
    "img_array = image.img_to_array(img)\n",
    "img = np.expand_dims(img_array, axis=0)\n",
    "model.predict(img)\n"
   ]
  },
  {
   "cell_type": "code",
   "execution_count": 32,
   "id": "05d3316b-1164-45c4-8156-e08d12a390a0",
   "metadata": {},
   "outputs": [],
   "source": [
    "import numpy as np\n",
    "\n",
    "y_pred = []  # store predicted labels\n",
    "y_true = []  # store true labels\n",
    "\n",
    "# iterate over the dataset\n",
    "for image_batch, label_batch in valid_ds:   # use dataset.unbatch() with repeat\n",
    "  # append true labels\n",
    "  y_true.append(np.argmax(label_batch, axis = - 1))\n",
    "  # # compute predictions\n",
    "  preds = model.predict(image_batch)\n",
    "  # # append predicted labels\n",
    "  y_pred.append(np.argmax(preds, axis = - 1))\n",
    "\n"
   ]
  },
  {
   "cell_type": "code",
   "execution_count": 33,
   "id": "0f309d01-c664-484e-9f35-6a10a7c448f6",
   "metadata": {},
   "outputs": [],
   "source": [
    "# convert the true and predicted labels into tensors\n",
    "correct_labels = tf.concat([item for item in y_true], axis = 0)\n",
    "predicted_labels = tf.concat([item for item in y_pred], axis = 0)"
   ]
  },
  {
   "cell_type": "code",
   "execution_count": 34,
   "id": "44bcbf88-3276-4d2e-a624-162f7d0d52d0",
   "metadata": {},
   "outputs": [
    {
     "data": {
      "text/plain": [
       "array([[1077,   56],\n",
       "       [ 344, 3803]])"
      ]
     },
     "execution_count": 34,
     "metadata": {},
     "output_type": "execute_result"
    }
   ],
   "source": [
    "\n",
    "\n",
    "from sklearn.metrics import confusion_matrix\n",
    "confusion_matrix(predicted_labels, correct_labels)\n",
    "\n"
   ]
  }
 ],
 "metadata": {
  "kernelspec": {
   "display_name": "Python 3 (ipykernel)",
   "language": "python",
   "name": "python3"
  },
  "language_info": {
   "codemirror_mode": {
    "name": "ipython",
    "version": 3
   },
   "file_extension": ".py",
   "mimetype": "text/x-python",
   "name": "python",
   "nbconvert_exporter": "python",
   "pygments_lexer": "ipython3",
   "version": "3.9.10"
  }
 },
 "nbformat": 4,
 "nbformat_minor": 5
}

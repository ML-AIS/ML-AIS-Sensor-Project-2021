{
  "nbformat": 4,
  "nbformat_minor": 0,
  "metadata": {
    "colab": {
      "name": "time signal classification.ipynb",
      "provenance": [],
      "toc_visible": true,
      "include_colab_link": true
    },
    "kernelspec": {
      "display_name": "Python 3",
      "name": "python3"
    },
    "language_info": {
      "name": "python"
    }
  },
  "cells": [
    {
      "cell_type": "markdown",
      "metadata": {
        "id": "view-in-github",
        "colab_type": "text"
      },
      "source": [
        "<a href=\"https://colab.research.google.com/github/sabinbajracharya/spectral-classfication/blob/main/spectogram_generator/ultrasonic-to-spectogram.ipynb\" target=\"_parent\"><img src=\"https://colab.research.google.com/assets/colab-badge.svg\" alt=\"Open In Colab\"/></a>"
      ]
    },
    {
      "cell_type": "code",
      "source": [
        "!pip install --upgrade xlrd"
      ],
      "metadata": {
        "id": "nBzNxwi34qgk",
        "outputId": "5ef40fae-421d-497d-d79c-27f2e6228443",
        "colab": {
          "base_uri": "https://localhost:8080/",
          "height": 278
        }
      },
      "execution_count": 6,
      "outputs": [
        {
          "output_type": "stream",
          "name": "stdout",
          "text": [
            "Requirement already satisfied: xlrd in /usr/local/lib/python3.7/dist-packages (1.1.0)\n",
            "Collecting xlrd\n",
            "  Downloading xlrd-2.0.1-py2.py3-none-any.whl (96 kB)\n",
            "\u001b[K     |████████████████████████████████| 96 kB 3.1 MB/s \n",
            "\u001b[?25hInstalling collected packages: xlrd\n",
            "  Attempting uninstall: xlrd\n",
            "    Found existing installation: xlrd 1.1.0\n",
            "    Uninstalling xlrd-1.1.0:\n",
            "      Successfully uninstalled xlrd-1.1.0\n",
            "Successfully installed xlrd-2.0.1\n"
          ]
        },
        {
          "output_type": "display_data",
          "data": {
            "application/vnd.colab-display-data+json": {
              "pip_warning": {
                "packages": [
                  "xlrd"
                ]
              }
            }
          },
          "metadata": {}
        }
      ]
    },
    {
      "cell_type": "code",
      "metadata": {
        "id": "kjGG2BO59G62"
      },
      "source": [
        "from __future__ import absolute_import, division, print_function, unicode_literals\n",
        "\n",
        "import numpy as np\n",
        "import pandas as pd\n",
        "import matplotlib.pyplot as plt\n",
        "import math\n",
        "from IPython.display import clear_output\n",
        "from six.moves import urllib\n",
        "\n",
        "import tensorflow.compat.v2.feature_column as fc\n",
        "import tensorflow as tf\n",
        "\n",
        "from IPython.core.debugger import set_trace\n",
        "\n",
        "import random\n",
        "import os\n",
        "import gc"
      ],
      "execution_count": 2,
      "outputs": []
    },
    {
      "cell_type": "code",
      "metadata": {
        "id": "JDXVldPIf0PS",
        "outputId": "693872dc-a2f2-42e9-bd7b-9785774234f0",
        "colab": {
          "base_uri": "https://localhost:8080/"
        }
      },
      "source": [
        "# mount drive\n",
        "from google.colab import drive\n",
        "drive.mount('/content/gdrive')"
      ],
      "execution_count": 6,
      "outputs": [
        {
          "output_type": "stream",
          "name": "stdout",
          "text": [
            "Drive already mounted at /content/gdrive; to attempt to forcibly remount, call drive.mount(\"/content/gdrive\", force_remount=True).\n"
          ]
        }
      ]
    },
    {
      "cell_type": "code",
      "source": [
        "path = 'https://raw.githubusercontent.com/paweenp/ML-data/master/all_data.xls'\n",
        "eftrain = pd.read_excel(path, header=None)\n",
        "\n",
        "path_label = 'https://raw.githubusercontent.com/paweenp/ML-data/master/all_label.xls'\n",
        "eftrain_label = pd.read_excel(path_label, header=None)"
      ],
      "metadata": {
        "id": "ILbCrTGh4guZ"
      },
      "execution_count": 7,
      "outputs": []
    },
    {
      "cell_type": "code",
      "source": [
        "def power_spectral_density_hht_v2(freq, amps, time, freqsol = 33, timesol = 50):\n",
        "  freqsol = len(freq)\n",
        "  t0 = time[0]\n",
        "  t1 = time[-1]\n",
        "\n",
        "  dt = len(time)\n",
        "\n",
        "  tw = t1 - t0\n",
        "\n",
        "\n",
        "  ## Creates 33 columns starting from 0 until 500 \n",
        "  #\n",
        "  # [  0.   ,  15.625,  31.25 ,  46.875,  62.5  ,  78.125,  93.75 ,\n",
        "  # 109.375, 125.   , 140.625, 156.25 , 171.875, 187.5  , 203.125,\n",
        "  # 218.75 , 234.375, 250.   , 265.625, 281.25 , 296.875, 312.5  ,\n",
        "  # 328.125, 343.75 , 359.375, 375.   , 390.625, 406.25 , 421.875,\n",
        "  # 437.5  , 453.125, 468.75 , 484.375, 500.   ]\n",
        "  bins = np.linspace(0, len(freq), freqsol) #bins = np.linspace(0, 12, freqsol)  # np.logspace(0, 10, freqsol, base=2.0)\n",
        "\n",
        "  # Assign each item of 2d array to a bin\n",
        "  # [[1 1 1 ... 1 1 1]\n",
        "  # [1 1 1 ... 1 1 1]\n",
        "  # [1 1 1 ... 1 1 1]\n",
        "  # ...\n",
        "  # [1 1 1 ... 1 1 1]\n",
        "  # [0 1 1 ... 1 1 0]\n",
        "  # [0 1 1 ... 1 1 0]]\n",
        "  p = np.digitize(freq, bins) #p = np.digitize(freq, 2 ** bins)\n",
        "\n",
        "  #\n",
        "  # [ 0.  1.  1. ... 49. 49. 49.]\n",
        "  t = np.ceil((timesol - 1) * (time - t0) / tw)\n",
        "  t = t.astype(int)\n",
        "\n",
        "  # Create 3400x33 array filled with zeros\n",
        "  hilbert_spectrum = np.zeros([len(time), freqsol]) # (3400, 33)\n",
        "  \n",
        "\n",
        "  for i in range(len(time)): # 0 to 3400\n",
        "      # for j in range(imfs.shape[0] - 1):\n",
        "    for j in range(len(freq)): # 0 to 7 \n",
        "      if p[j] >= 0 and p[j] < freqsol:\n",
        "        hilbert_spectrum[i, p[j]] += amps[j]\n",
        "\n",
        "  hilbert_spectrum = abs(hilbert_spectrum)\n",
        "\n",
        "  fig0 = plt.figure(figsize=(5, 5),dpi=50)\n",
        "\n",
        "  ax = plt.gca()\n",
        "  ax.set_axis_off()\n",
        "\n",
        "  plt.subplots_adjust(top = 1, bottom = 0, right = 1, left = 0, hspace = 0, wspace = 0)\n",
        "  plt.margins(0,0)\n",
        "  plt.axis('off')\n",
        "\n",
        "  c = ax.contourf(np.linspace(t0, t1, len(time)), bins, hilbert_spectrum.T) #c = ax.contourf(np.linspace(t0, t1, 3400), timesol, hilbert_spectrum.T) #, colors=('white','lightgray','navy','darkgreen','gold','red'))\n",
        "\n",
        "  return fig0"
      ],
      "metadata": {
        "id": "dlJyl7gS1w74"
      },
      "execution_count": 8,
      "outputs": []
    },
    {
      "cell_type": "code",
      "metadata": {
        "id": "2wdvgV3FhtWA"
      },
      "source": [
        "PATH = 'gdrive/My Drive/CI/ml/'\n",
        "PATH_HUMAN = PATH + 'human/'\n",
        "PATH_EMPTY = PATH + 'empty/'\n",
        "\n",
        "if not os.path.isdir(PATH_HUMAN):\n",
        "    os.makedirs(PATH_HUMAN)\n",
        "    print('Created direcotry:' + PATH_HUMAN)\n",
        "\n",
        "if not os.path.isdir(PATH_EMPTY):\n",
        "    os.makedirs(PATH_EMPTY)\n",
        "    print('Created direcotry:' + PATH_EMPTY)"
      ],
      "execution_count": 9,
      "outputs": []
    },
    {
      "cell_type": "code",
      "metadata": {
        "id": "dv86oOHdxJAV"
      },
      "source": [
        "for sig_idx in range(eftrain.shape[0]):\n",
        "  amps = eftrain.iloc[sig_idx].to_numpy()\n",
        "  freq_len = len(amps)\n",
        "  freqs = np.linspace(1, freq_len, freq_len)\n",
        "  datax_t = np.linspace(0, 1, freq_len)\n",
        "\n",
        "  fig = power_spectral_density_hht_v2(freqs, amps, datax_t)\n",
        "\n",
        "  label = eftrain_label.iloc[sig_idx].to_numpy()[0]\n",
        "  if label == 0:\n",
        "    fig.savefig(PATH_EMPTY +'image'+str(sig_idx)+'.png',dpi=50)\n",
        "  else:\n",
        "    fig.savefig(PATH_HUMAN +'image'+str(sig_idx)+'.png',dpi=50)\n",
        "  \n",
        "  plt.close(fig)\n",
        "  plt.cla()\n",
        "  plt.clf()\n",
        "  gc.collect()\n"
      ],
      "execution_count": null,
      "outputs": []
    }
  ]
}